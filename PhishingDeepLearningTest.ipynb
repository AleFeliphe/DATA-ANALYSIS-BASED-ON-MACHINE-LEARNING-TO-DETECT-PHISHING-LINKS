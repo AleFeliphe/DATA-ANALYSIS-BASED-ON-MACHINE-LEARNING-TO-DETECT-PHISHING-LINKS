{
  "cells": [
    {
      "cell_type": "markdown",
      "metadata": {
        "id": "view-in-github",
        "colab_type": "text"
      },
      "source": [
        "<a href=\"https://colab.research.google.com/github/AleFeliphe/DATA-ANALYSIS-BASED-ON-MACHINE-LEARNING-TO-DETECT-PHISHING-LINKS/blob/main/PhishingDeepLearningTest.ipynb\" target=\"_parent\"><img src=\"https://colab.research.google.com/assets/colab-badge.svg\" alt=\"Open In Colab\"/></a>"
      ]
    },
    {
      "cell_type": "markdown",
      "metadata": {
        "id": "EIvT-8WahcIN"
      },
      "source": [
        "# FUNCOES PARA TRATAR DADOS"
      ]
    },
    {
      "cell_type": "code",
      "execution_count": null,
      "metadata": {
        "id": "aRReb16yf4tF"
      },
      "outputs": [],
      "source": [
        "# Carregar pacotes necessários\n",
        "\n",
        "if (!require(\"httr\")) install.packages(\"httr\", dependencies=TRUE)\n",
        "if (!require(\"ggplot2\")) install.packages(\"ggplot2\", dependencies=TRUE)\n",
        "library(httr)\n",
        "library(ggplot2)\n",
        "\n",
        "if (!requireNamespace(\"whois\", quietly = TRUE)) {\n",
        "  install.packages(\"whois\")\n",
        "}\n",
        "\n",
        "library(whois)\n",
        "\n",
        "\n",
        "# Funções de análise de URL (mantidas do seu código original)\n",
        "\n",
        "is_https <- function(url) {\n",
        "  scheme <- parse_url(url)$scheme\n",
        "  if (is.null(scheme)) return(0)\n",
        "  return(as.integer(scheme == \"https\"))\n",
        "}\n",
        "\n",
        "count_dots <- function(url) {\n",
        "  return(sum(strsplit(url, NULL)[[1]] == \".\"))\n",
        "}\n",
        "\n",
        "url_length <- function(url) {\n",
        "  return(nchar(url))\n",
        "}\n",
        "\n",
        "count_digits <- function(url) {\n",
        "  return(sum(grepl(\"\\\\d\", strsplit(url, NULL)[[1]])))\n",
        "}\n",
        "\n",
        "count_special_characters <- function(url) {\n",
        "  special_characters <- c(\":\", \";\", \"#\", \"!\", \"%\", \"~\", \"+\", \"_\", \"?\", \"=\", \"&\", \"[\", \"]\")\n",
        "  return(sum(strsplit(url, NULL)[[1]] %in% special_characters))\n",
        "}\n",
        "\n",
        "count_hyphens <- function(url) {\n",
        "  return(sum(strsplit(url, NULL)[[1]] == \"-\"))\n",
        "}\n",
        "\n",
        "count_double_slashes <- function(url) {\n",
        "  return(sum(gregexpr(\"//\", url)[[1]] > 0))\n",
        "}\n",
        "\n",
        "count_slashes <- function(url) {\n",
        "  return(sum(gregexpr(\"/\", url)[[1]] > 0) - count_double_slashes(url))\n",
        "}\n",
        "\n",
        "count_at_symbols <- function(url) {\n",
        "  return(sum(strsplit(url, NULL)[[1]] == \"@\"))\n",
        "}\n",
        "\n",
        "is_ip_address <- function(url) {\n",
        "  netloc <- parse_url(url)$hostname\n",
        "  if (is.null(netloc)) return(0)\n",
        "  return(as.integer(identical(netloc, tryCatch(inet_pton(netloc), error = function(e) NULL))))\n",
        "}\n",
        "\n",
        "\n",
        "domain_age <- function(url) {\n",
        "  # Extrai o nome do domínio\n",
        "  domain <- sub(\"^(https?://)?(www\\\\.)?\", \"\", url)\n",
        "  domain <- sub(\"/.*$\", \"\", domain)\n",
        "\n",
        "  # Obtém informações do domínio\n",
        "  info <- whois(domain)\n",
        "\n",
        "  # Verifica se a data de criação está disponível\n",
        "  if (!is.null(info$creation_date)) {\n",
        "    creation_date <- as.Date(info$creation_date)\n",
        "    current_date <- Sys.Date()\n",
        "\n",
        "    # Calcula a idade do domínio em dias\n",
        "    age_days <- as.numeric(current_date - creation_date)\n",
        "    return(age_days)\n",
        "  } else {\n",
        "    stop(\"Data de criação do domínio não encontrada.\")\n",
        "  }\n",
        "}"
      ]
    },
    {
      "cell_type": "markdown",
      "metadata": {
        "id": "eFMl3QVZbdwY"
      },
      "source": [
        "# TRATAR DADOS DE PHISHING"
      ]
    },
    {
      "cell_type": "code",
      "execution_count": null,
      "metadata": {
        "id": "YDqJtn5gXVDd"
      },
      "outputs": [],
      "source": [
        "# Lê o arquivo .txt contendo URLs\n",
        "urls <- readLines(\"phishing-links-ACTIVE.txt\")\n",
        "urls <- trimws(urls)\n",
        "\n",
        "# Inicializa um data frame para armazenar os resultados\n",
        "results_phishing <- data.frame(\n",
        "  URL = character(),\n",
        "  HTTPS = integer(),\n",
        "  Dots = integer(),\n",
        "  Length = integer(),\n",
        "  Digits = integer(),\n",
        "  SpecialCharacters = integer(),\n",
        "  Hyphens = integer(),\n",
        "  DoubleSlashes = integer(),\n",
        "  Slashes = integer(),\n",
        "  AtSymbols = integer(),\n",
        "  DomainAge = numeric()  # Adicionando a coluna para idade do domínio\n",
        ")\n",
        "\n",
        "# Analisa e armazena as características das URLs\n",
        "for (url in urls) {\n",
        "  cat(sprintf(\"URL: %s\\n\", url))\n",
        "  cat(sprintf(\"HTTPS: %d\\n\", is_https(url)))\n",
        "  cat(sprintf(\"Número de pontos: %d\\n\", count_dots(url)))\n",
        "  cat(sprintf(\"Comprimento da URL: %d\\n\", url_length(url)))\n",
        "  cat(sprintf(\"Número de dígitos: %d\\n\", count_digits(url)))\n",
        "  cat(sprintf(\"Número de caracteres especiais: %d\\n\", count_special_characters(url)))\n",
        "  cat(sprintf(\"Número de hífens: %d\\n\", count_hyphens(url)))\n",
        "  cat(sprintf(\"Número de barras duplas: %d\\n\", count_double_slashes(url)))\n",
        "  cat(sprintf(\"Número de barras: %d\\n\", count_slashes(url)))\n",
        "  cat(sprintf(\"Número de '@': %d\\n\", count_at_symbols(url)))\n",
        "\n",
        "  # Verificando a idade do domínio\n",
        "  domain_age <- get_domain_age(url)\n",
        "  cat(sprintf(\"Idade do domínio: %s dias\\n\", ifelse(is.na(domain_age), \"não disponível\", domain_age)))\n",
        "  cat(rep(\"-\", 40), \"\\n\")\n",
        "\n",
        "  results_phishing <- rbind(results_phishing, data.frame(\n",
        "    URL = url,\n",
        "    HTTPS = is_https(url),\n",
        "    Dots = count_dots(url),\n",
        "    Length = url_length(url),\n",
        "    Digits = count_digits(url),\n",
        "    SpecialCharacters = count_special_characters(url),\n",
        "    Hyphens = count_hyphens(url),\n",
        "    DoubleSlashes = count_double_slashes(url),\n",
        "    Slashes = count_slashes(url),\n",
        "    AtSymbols = count_at_symbols(url),\n",
        "    DomainAge = domain_age  # Armazenando a idade do domínio\n",
        "  ))\n",
        "}\n"
      ]
    },
    {
      "cell_type": "markdown",
      "metadata": {
        "id": "us5l3lCPhJ32"
      },
      "source": [
        "# TRATAR DADOS NAO PHISHING"
      ]
    },
    {
      "cell_type": "code",
      "execution_count": null,
      "metadata": {
        "id": "EyuQ2l0Lfj8L"
      },
      "outputs": [],
      "source": [
        "# Lê o arquivo .txt contendo URLs_not_phishing\n",
        "urls_not_phishing <- readLines(\"top-1000-websites.txt\")\n",
        "urls_not_phishing <- trimws(urls_not_phishing)\n",
        "\n",
        "# Inicializa um data frame para armazenar os resultados\n",
        "results_not_phishing <- data.frame(\n",
        "  URL = character(),\n",
        "  HTTPS = integer(),\n",
        "  Dots = integer(),\n",
        "  Length = integer(),\n",
        "  Digits = integer(),\n",
        "  SpecialCharacters = integer(),\n",
        "  Hyphens = integer(),\n",
        "  DoubleSlashes = integer(),\n",
        "  Slashes = integer(),\n",
        "  AtSymbols = integer()\n",
        ")\n",
        "\n",
        "# Analisa e armazena as características das URLs_not_phishing\n",
        "for (url in urls_not_phishing) {\n",
        "\n",
        "  cat(sprintf(\"URL: %s\\n\", url))\n",
        "  cat(sprintf(\"HTTPS: %d\\n\", is_https(url)))\n",
        "  cat(sprintf(\"Número de pontos: %d\\n\", count_dots(url)))\n",
        "  cat(sprintf(\"Comprimento da URL: %d\\n\", url_length(url)))\n",
        "  cat(sprintf(\"Número de dígitos: %d\\n\", count_digits(url)))\n",
        "  cat(sprintf(\"Número de caracteres especiais: %d\\n\", count_special_characters(url)))\n",
        "  cat(sprintf(\"Número de hífens: %d\\n\", count_hyphens(url)))\n",
        "  cat(sprintf(\"Número de barras duplas: %d\\n\", count_double_slashes(url)))\n",
        "  cat(sprintf(\"Número de barras: %d\\n\", count_slashes(url)))\n",
        "  cat(sprintf(\"Número de '@': %d\\n\", count_at_symbols(url)))\n",
        "  cat(rep(\"-\", 40), \"\\n\")\n",
        "\n",
        "  results_not_phishing <- rbind(results_not_phishing, data.frame(\n",
        "    URL = url,\n",
        "    HTTPS = is_https(url),\n",
        "    Dots = count_dots(url),\n",
        "    Length = url_length(url),\n",
        "    Digits = count_digits(url),\n",
        "    SpecialCharacters = count_special_characters(url),\n",
        "    Hyphens = count_hyphens(url),\n",
        "    DoubleSlashes = count_double_slashes(url),\n",
        "    Slashes = count_slashes(url),\n",
        "    AtSymbols = count_at_symbols(url)\n",
        "  ))\n",
        "}\n",
        "\n",
        "\n",
        "\n"
      ]
    },
    {
      "cell_type": "markdown",
      "metadata": {
        "id": "hgqctRJ8bnih"
      },
      "source": [
        "# GERAR GRAFICOS PHISHING"
      ]
    },
    {
      "cell_type": "code",
      "execution_count": null,
      "metadata": {
        "id": "jSfqqJBkbbbR"
      },
      "outputs": [],
      "source": [
        "# Gráficos para cada parâmetro\n",
        "par(mfrow = c(3, 4))  # Define a matriz de gráficos\n",
        "\n",
        "# Gráfico para HTTPS\n",
        "ggplot(results_phishing, aes(x = factor(HTTPS))) +\n",
        "  geom_bar() +\n",
        "  labs(title = \"Uso de HTTPS\", x = \"HTTPS (0 = Não, 1 = Sim)\", y = \"Contagem\")\n",
        "\n",
        "# Gráfico para Número de Pontos\n",
        "ggplot(results_phishing, aes(x = Dots)) +\n",
        "  geom_bar() +\n",
        "  labs(title = \"Número de Pontos na URL\", x = \"Número de Pontos\", y = \"Contagem\")\n",
        "\n",
        "# Gráfico para Comprimento da URL\n",
        "ggplot(results_phishing, aes(x = Length)) +\n",
        "  geom_histogram(binwidth = 5) +\n",
        "  labs(title = \"Comprimento da URL\", x = \"Comprimento\", y = \"Contagem\")\n",
        "\n",
        "# Gráfico para Número de Dígitos\n",
        "ggplot(results_phishing, aes(x = Digits)) +\n",
        "  geom_bar() +\n",
        "  labs(title = \"Número de Dígitos na URL\", x = \"Número de Dígitos\", y = \"Contagem\")\n",
        "\n",
        "# Gráfico para Número de Caracteres Especiais\n",
        "ggplot(results_phishing, aes(x = SpecialCharacters)) +\n",
        "  geom_bar() +\n",
        "  labs(title = \"Número de Caracteres Especiais\", x = \"Número de Caracteres Especiais\", y = \"Contagem\")\n",
        "\n",
        "# Gráfico para Número de Hífens\n",
        "ggplot(results_phishing, aes(x = Hyphens)) +\n",
        "  geom_bar() +\n",
        "  labs(title = \"Número de Hífens na URL\", x = \"Número de Hífens\", y = \"Contagem\")\n",
        "\n",
        "# Gráfico para Número de Barras Duplas\n",
        "ggplot(results_phishing, aes(x = DoubleSlashes)) +\n",
        "  geom_bar() +\n",
        "  labs(title = \"Número de Barras Duplas\", x = \"Número de Barras Duplas\", y = \"Contagem\")\n",
        "\n",
        "# Gráfico para Número de Barras\n",
        "ggplot(results_phishing, aes(x = Slashes)) +\n",
        "  geom_bar() +\n",
        "  labs(title = \"Número de Barras na URL\", x = \"Número de Barras\", y = \"Contagem\")\n",
        "\n",
        "# Gráfico para Número de Símbolos '@'\n",
        "ggplot(results_phishing, aes(x = AtSymbols)) +\n",
        "  geom_bar() +\n",
        "  labs(title = \"Número de '@' na URL\", x = \"Número de '@'\", y = \"Contagem\")"
      ]
    },
    {
      "cell_type": "markdown",
      "metadata": {
        "id": "PVEOY7CIhswe"
      },
      "source": [
        "# GRAFICOS DE NAO PHISHING"
      ]
    },
    {
      "cell_type": "code",
      "execution_count": null,
      "metadata": {
        "id": "hCL0w4HjhvPU"
      },
      "outputs": [],
      "source": [
        "# Gráficos para cada parâmetro\n",
        "par(mfrow = c(3, 4))  # Define a matriz de gráficos\n",
        "\n",
        "# Gráfico para HTTPS\n",
        "ggplot(results_not_phishing, aes(x = factor(HTTPS))) +\n",
        "  geom_bar() +\n",
        "  labs(title = \"Uso de HTTPS\", x = \"HTTPS (0 = Não, 1 = Sim)\", y = \"Contagem\")\n",
        "\n",
        "# Gráfico para Número de Pontos\n",
        "ggplot(results_not_phishing, aes(x = Dots)) +\n",
        "  geom_bar() +\n",
        "  labs(title = \"Número de Pontos na URL\", x = \"Número de Pontos\", y = \"Contagem\")\n",
        "\n",
        "# Gráfico para Comprimento da URL\n",
        "ggplot(results_not_phishing, aes(x = Length)) +\n",
        "  geom_histogram(binwidth = 5) +\n",
        "  labs(title = \"Comprimento da URL\", x = \"Comprimento\", y = \"Contagem\")\n",
        "\n",
        "# Gráfico para Número de Dígitos\n",
        "ggplot(results_not_phishing, aes(x = Digits)) +\n",
        "  geom_bar() +\n",
        "  labs(title = \"Número de Dígitos na URL\", x = \"Número de Dígitos\", y = \"Contagem\")\n",
        "\n",
        "# Gráfico para Número de Caracteres Especiais\n",
        "ggplot(results_not_phishing, aes(x = SpecialCharacters)) +\n",
        "  geom_bar() +\n",
        "  labs(title = \"Número de Caracteres Especiais\", x = \"Número de Caracteres Especiais\", y = \"Contagem\")\n",
        "\n",
        "# Gráfico para Número de Hífens\n",
        "ggplot(results_not_phishing, aes(x = Hyphens)) +\n",
        "  geom_bar() +\n",
        "  labs(title = \"Número de Hífens na URL\", x = \"Número de Hífens\", y = \"Contagem\")\n",
        "\n",
        "# Gráfico para Número de Barras Duplas\n",
        "ggplot(results_not_phishing, aes(x = DoubleSlashes)) +\n",
        "  geom_bar() +\n",
        "  labs(title = \"Número de Barras Duplas\", x = \"Número de Barras Duplas\", y = \"Contagem\")\n",
        "\n",
        "# Gráfico para Número de Barras\n",
        "ggplot(results_not_phishing, aes(x = Slashes)) +\n",
        "  geom_bar() +\n",
        "  labs(title = \"Número de Barras na URL\", x = \"Número de Barras\", y = \"Contagem\")\n",
        "\n",
        "# Gráfico para Número de Símbolos '@'\n",
        "ggplot(results_not_phishing, aes(x = AtSymbols)) +\n",
        "  geom_bar() +\n",
        "  labs(title = \"Número de '@' na URL\", x = \"Número de '@'\", y = \"Contagem\")"
      ]
    },
    {
      "cell_type": "markdown",
      "metadata": {
        "id": "jytAiT3LiYCP"
      },
      "source": [
        "# COMBINA OS RESULTADOS DE PHISHING E NAO PHISHING ALEATORIAMENTE"
      ]
    },
    {
      "cell_type": "code",
      "execution_count": null,
      "metadata": {
        "id": "nfiv3fVdZ0hE"
      },
      "outputs": [],
      "source": [
        "# Adicionando a coluna isPhishing\n",
        "results_phishing$isPhishing <- TRUE      # 1 para phishing\n",
        "results_not_phishing$isPhishing <- FALSE  # 0 para não phishing\n",
        "\n",
        "# Mesclando os dois dataframes\n",
        "combined_results <- rbind(results_phishing, results_not_phishing)\n",
        "\n",
        "# Embaralhando as linhas aleatoriamente\n",
        "set.seed(123)  # Para reprodutibilidade\n",
        "combined_results <- combined_results[sample(nrow(combined_results)), ]\n",
        "\n",
        "# Exibindo os primeiros registros do dataframe combinado e embaralhado\n",
        "head(combined_results)\n"
      ]
    },
    {
      "cell_type": "markdown",
      "metadata": {
        "id": "2-XOC06SijqO"
      },
      "source": [
        "# MACHINNE LEARNING"
      ]
    },
    {
      "cell_type": "code",
      "execution_count": null,
      "metadata": {
        "colab": {
          "background_save": true
        },
        "id": "LpfI6MXmjExl"
      },
      "outputs": [],
      "source": [
        "if (!require(\"rpart\")) install.packages(\"rpart\", dependencies=TRUE)\n",
        "if (!require(\"rpart.plot\")) install.packages(\"rpart.plot\", dependencies=TRUE)\n",
        "if (!require(\"caret\")) install.packages(\"caret\", dependencies=TRUE)\n"
      ]
    },
    {
      "cell_type": "code",
      "execution_count": null,
      "metadata": {
        "id": "s-cUPgheii4-"
      },
      "outputs": [],
      "source": [
        "# Convertendo a variável de resposta para fator\n",
        "combined_results$isPhishing <- as.factor(combined_results$isPhishing)\n",
        "\n",
        "# Dividindo o conjunto de dados em treino e teste\n",
        "set.seed(123)\n",
        "train_index <- createDataPartition(combined_results$isPhishing, p = 0.8, list = FALSE)\n",
        "train_data <- combined_results[train_index, ]\n",
        "test_data <- combined_results[-train_index, ]\n",
        "\n",
        "# Treinando o modelo de árvore de decisão\n",
        "model <- rpart(isPhishing ~ HTTPS + Dots + Length + Digits + SpecialCharacters +\n",
        "                Hyphens + DoubleSlashes + Slashes + AtSymbols,\n",
        "                data = train_data, method = \"class\")\n",
        "\n",
        "# Avaliando o modelo\n",
        "predictions <- predict(model, test_data, type = \"class\")\n",
        "\n",
        "# Convertendo 'isPhishing' para fator\n",
        "test_data$isPhishing <- as.factor(test_data$isPhishing)\n",
        "\n",
        "# Avaliando a matriz de confusão\n",
        "confusion_matrix <- confusionMatrix(predictions, test_data$isPhishing)\n",
        "print(confusion_matrix)\n",
        "\n",
        "\n",
        "test_url <- function(url) {\n",
        "  # Extraindo características da URL\n",
        "  features <- data.frame(\n",
        "    HTTPS = is_https(url),\n",
        "    Dots = count_dots(url),\n",
        "    Length = url_length(url),\n",
        "    Digits = count_digits(url),\n",
        "    SpecialCharacters = count_special_characters(url),\n",
        "    Hyphens = count_hyphens(url),\n",
        "    DoubleSlashes = count_double_slashes(url),\n",
        "    Slashes = count_slashes(url),\n",
        "    AtSymbols = count_at_symbols(url)\n",
        "  )\n",
        "\n",
        "  # Fazendo a previsão\n",
        "  prediction <- predict(model, features, type = \"class\")\n",
        "\n",
        "  # Retornando a previsão\n",
        "  return(prediction)\n",
        "}\n",
        "\n",
        "# Testando uma URL\n",
        "url_to_test <- \"https://pay.pagueconfiavel.shop/1VOvGVXqxEo3D62?utm_source=FBjLj66e93d187f5e9c58cfaa34b0&utm_campaign=CA+04+CAMP+%28CVT+4%29+1-3-1+14%2F09+%E2%80%94+C%C3%B3pia+%E2%80%94+C%C3%B3pia+%E2%80%94+C%C3%B3pia%7C120212518635320033rKm-km-rKmABERTO%7C120212518635990033&utm_medium=ABERTO%7C120212518635990033&utm_content=cvt+4%7C120212518634880033&utm_term=Instagram_Feed&subid=FBjLj66e93d187f5e9c58cfaa34b0&sid2=CA04CAMPCVT41-3-11409CopiaCopiaCopia%7C120212518635320033rKm-km-rKmABERTO%7C120212518635990033&subid2=CA04CAMPCVT41-3-11409CopiaCopiaCopia%7C120212518635320033rKm-km-rKmABERTO%7C120212518635990033&subid3=ABERTO%7C120212518635990033&subid4=cvt4%7C120212518634880033&subid5=CA04CAMPCVT41-3-11409CopiaCopiaCopia%7C120212518635320033rKm-km-rKmABERTO%7C120212518635990033&xcod=FBjLj66e93d187f5e9c58cfaa34b0hQwK21wXxRCA+04+CAMP+%28CVT+4%29+1-3-1+14%2F09+%E2%80%94+C%C3%B3pia+%E2%80%94+C%C3%B3pia+%E2%80%94+C%C3%B3pia%7C120212518635320033rKm-km-rKmABERTO%7C120212518635990033hQwK21wXxRABERTO%7C120212518635990033hQwK21wXxRcvt+4%7C120212518634880033hQwK21wXxRInstagram_Feed&sck=FBjLj66e93d187f5e9c58cfaa34b0hQwK21wXxRCA+04+CAMP+%28CVT+4%29+1-3-1+14%2F09+%E2%80%94+C%C3%B3pia+%E2%80%94+C%C3%B3pia+%E2%80%94+C%C3%B3pia%7C120212518635320033rKm-km-rKmABERTO%7C120212518635990033hQwK21wXxRABERTO%7C120212518635990033hQwK21wXxRcvt+4%7C120212518634880033hQwK21wXxRInstagram_Feed&fbclid=PAZXh0bgNhZW0BMAABpg5DXOxRizx7UU-ig0YPO6uGwKM95i9kbEKulrbNLxkmMi5S8P_DhA7aww_aem_GgVTs6Uw9VZxr9XZQv2NRQ\n",
        "\"  # Substitua pela URL que deseja testar\n",
        "result <- test_url(url_to_test)\n",
        "\n",
        "# Ajustando a impressão do resultado\n",
        "result_label <- levels(result)[result]  # Convertendo o fator para rótulo\n",
        "cat(sprintf(\"A URL '%s' é classificada como: %s\\n\", url_to_test, result_label))\n"
      ]
    }
  ],
  "metadata": {
    "colab": {
      "provenance": [],
      "include_colab_link": true
    },
    "kernelspec": {
      "display_name": "R",
      "name": "ir"
    },
    "language_info": {
      "name": "R"
    }
  },
  "nbformat": 4,
  "nbformat_minor": 0
}